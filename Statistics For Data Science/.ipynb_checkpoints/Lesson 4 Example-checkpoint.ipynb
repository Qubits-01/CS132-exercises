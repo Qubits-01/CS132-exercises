{
 "cells": [
  {
   "cell_type": "markdown",
   "metadata": {},
   "source": [
    "### Lesson 4\n",
    "#### Source: Ozdemir, Sinan. 2016. Principles of Data Science. Chapter 8.\n",
    "#### Example:  Suppose there is a company of 9,000 employees and we are interested in ascertaining the average length of breaks taken by employees in a single day. As we probably cannot ask every single person, we will take a sample of the 9,000 people and take a mean of the sample. This sample mean will be our point estimate."
   ]
  },
  {
   "cell_type": "code",
   "execution_count": 1,
   "metadata": {},
   "outputs": [],
   "source": [
    "import numpy as np\n",
    "import pandas as pd\n",
    "import scipy.stats as stats\n",
    "import matplotlib.pyplot as plt\n",
    "import random\n",
    "import math\n",
    "%matplotlib inline"
   ]
  },
  {
   "cell_type": "markdown",
   "metadata": {},
   "source": [
    "### Point estimate"
   ]
  },
  {
   "cell_type": "code",
   "execution_count": 2,
   "metadata": {},
   "outputs": [
    {
     "data": {
      "text/plain": [
       "39.99944444444444"
      ]
     },
     "execution_count": 2,
     "metadata": {},
     "output_type": "execute_result"
    }
   ],
   "source": [
    "# We will use the probability distribution, known as the Poisson distribution, to randomly generate 9,000 answers \n",
    "# to the question: for how many minutes in a day do you usually take breaks? This will represent our \"population\".  \n",
    "# The Poisson random variable is used when we know the average value of an event and wish to model a distribution around it.\n",
    "\n",
    "np.random.seed(1234)\n",
    "# The long_breaks variable represents 3000 answers to the question: how many\n",
    "# minutes on an average do you take breaks for?, and these answers will be on the longer side.\n",
    "\n",
    "# represents 3000 people who take about a 60 minute break\n",
    "long_breaks = stats.poisson.rvs(loc=10, mu=60, size=3000)\n",
    "\n",
    "# represents 6000 people who take about a 15 minute break\n",
    "short_breaks = stats.poisson.rvs(loc=10, mu=15, size=6000)\n",
    "\n",
    "# put the two arrays together to get our \"population\" of 9000 people\n",
    "breaks = np.concatenate((long_breaks, short_breaks))\n",
    "\n",
    "breaks.mean()  # This is the population mean\n",
    "# 39.99 minutes is our parameter."
   ]
  },
  {
   "cell_type": "code",
   "execution_count": 6,
   "metadata": {},
   "outputs": [
    {
     "data": {
      "text/plain": [
       "2.0394444444444417"
      ]
     },
     "execution_count": 6,
     "metadata": {},
     "output_type": "execute_result"
    }
   ],
   "source": [
    "# We want to simulate a world where we ask 100 random people about the length of their breaks. \n",
    "# To do this, let's take a random sample of 100 employees out of the 9,000 employees we simulated, as shown:\n",
    "    \n",
    "# taking a sample of 100 employees\n",
    "sample_breaks = np.random.choice(a= breaks,\n",
    "                               size=100)            # Sample 100 values\n",
    "\n",
    "breaks.mean() - sample_breaks.mean()   # Check difference between means\n",
    "#Here, we calculated a point estimate for the mean."
   ]
  },
  {
   "cell_type": "code",
   "execution_count": 7,
   "metadata": {},
   "outputs": [
    {
     "name": "stdout",
     "output_type": "stream",
     "text": [
      "hispanic proportion estimate:\n",
      "0.107\n",
      "asian proportion estimate:\n",
      "0.308\n",
      "black proportion estimate:\n",
      "0.076\n",
      "other proportion estimate:\n",
      "0.315\n",
      "white proportion estimate:\n",
      "0.194\n"
     ]
    }
   ],
   "source": [
    "# We can also do this for proportion parameters. Proportion here refers to a ratio of two quantitative values.\n",
    "\n",
    "# Let's suppose that in a company of 10,000 people, our employees are 20% white, 10%\n",
    "# black, 10% Hispanic, 30% Asian, and 30% identify as other. We will take a sample of\n",
    "# 1,000 employees and see if their race proportions are similar.\n",
    "\n",
    "employee_races = ([\"white\"]*2000) + ([\"black\"]*1000) +\\\n",
    "                   ([\"hispanic\"]*1000) + ([\"asian\"]*3000) +\\\n",
    "                   ([\"other\"]*3000)\n",
    "\n",
    "        \n",
    "demo_sample = random.sample(employee_races, 1000)   # Sample 1000 values\n",
    "\n",
    "for race in set(demo_sample):\n",
    "    print( race + \" proportion estimate:\" )\n",
    "    print( demo_sample.count(race)/1000. )\n",
    "    \n",
    "# We can see that the race proportion estimates are very close to the underlying population's proportions."
   ]
  },
  {
   "cell_type": "markdown",
   "metadata": {},
   "source": [
    "### Sampling distribution"
   ]
  },
  {
   "cell_type": "code",
   "execution_count": 8,
   "metadata": {},
   "outputs": [
    {
     "data": {
      "text/plain": [
       "array([[<AxesSubplot:title={'center':'0'}>]], dtype=object)"
      ]
     },
     "execution_count": 8,
     "metadata": {},
     "output_type": "execute_result"
    },
    {
     "data": {
      "image/png": "[encoded data removed]",
      "text/plain": [
       "<Figure size 432x288 with 1 Axes>"
      ]
     },
     "metadata": {
      "needs_background": "light"
     },
     "output_type": "display_data"
    }
   ],
   "source": [
    "# As you can see, our data is definitely not following a normal distribution, it appears\n",
    "# to be bi-modal, which means that there are two peaks of break times, at around 25 and 70 minutes. \n",
    "# As our data is not normal, many of the most popular statistics tests\n",
    "# may not apply, however, if we follow the given procedure, we can create normal data.\n",
    "\n",
    "# The number of elements in the sample (100) was arbitrary, but large enough to be\n",
    "# a representative sample of the population. The number of samples (500) was also arbitrary, \n",
    "# but large enough to ensure that our data would converge to a normal distribution.\n",
    "\n",
    "pd.DataFrame(breaks).hist(bins=50,range=(5,100))"
   ]
  },
  {
   "cell_type": "code",
   "execution_count": 9,
   "metadata": {
    "scrolled": true
   },
   "outputs": [
    {
     "data": {
      "text/plain": [
       "array([[<AxesSubplot:title={'center':'0'}>]], dtype=object)"
      ]
     },
     "execution_count": 9,
     "metadata": {},
     "output_type": "execute_result"
    },
    {
     "data": {
      "image/png": "[encoded data removed]",
      "text/plain": [
       "<Figure size 432x288 with 1 Axes>"
      ]
     },
     "metadata": {
      "needs_background": "light"
     },
     "output_type": "display_data"
    }
   ],
   "source": [
    "# We will need to utilize what is known as a sampling distribution, which is\n",
    "# a distribution of point estimates of several samples of the same size.\n",
    "\n",
    "point_estimates = []\n",
    "for x in range(500):         # Generate 500 samples\n",
    "    sample = np.random.choice(a= breaks, size=100) #take a sample of 100 points\n",
    "    point_estimates.append( sample.mean() )\n",
    "    \n",
    "pd.DataFrame(point_estimates).hist()\n",
    "\n",
    "# The sampling distribution of the sample mean appears to be normal even\n",
    "# though we took data from an underlying bimodal population distribution. It is\n",
    "# important to note that the bars in this histogram represent the average break length\n",
    "# of 500 samples of employees, where each sample has 100 people in it. In other words,\n",
    "# a sampling distribution is a distribution of several point estimates.\n",
    "\n",
    "# Our data converged to a normal distribution because of something called the central\n",
    "# limit theorem, which states that the sampling distribution (the distribution of point\n",
    "# estimates) will approach a normal distribution as we increase the number of samples taken."
   ]
  },
  {
   "cell_type": "code",
   "execution_count": 10,
   "metadata": {},
   "outputs": [
    {
     "data": {
      "text/plain": [
       "0.036684444444439634"
      ]
     },
     "execution_count": 10,
     "metadata": {},
     "output_type": "execute_result"
    }
   ],
   "source": [
    "breaks.mean() - np.array(point_estimates).mean()"
   ]
  },
  {
   "cell_type": "markdown",
   "metadata": {},
   "source": [
    "### Confidence interval"
   ]
  },
  {
   "cell_type": "code",
   "execution_count": 11,
   "metadata": {},
   "outputs": [
    {
     "data": {
      "text/plain": [
       "(37.25550727128897, 46.02449272871103)"
      ]
     },
     "execution_count": 11,
     "metadata": {},
     "output_type": "execute_result"
    }
   ],
   "source": [
    "# the size of the sample we wish to take\n",
    "sample_size = 100\n",
    "\n",
    "# a sample of sample_size taken from the 9,000 breaks population from before\n",
    "sample = np.random.choice(a= breaks, size = sample_size)\n",
    "\n",
    "# the sample mean of the break lengths sample\n",
    "sample_mean = sample.mean()\n",
    "\n",
    "sample_stdev = sample.std()    \n",
    "# sample standard deviation\n",
    "\n",
    "sigma = sample_stdev/math.sqrt(sample_size)  \n",
    "# population Standard deviation estimate\n",
    "\n",
    "stats.t.interval(alpha = 0.95,              # Confidence level\n",
    "                 df= sample_size - 1,       # Degrees of freedom\n",
    "                 loc = sample_mean,         # Sample mean\n",
    "                 scale = sigma)             # Standard deviation estimate\n",
    "\n",
    "# This range of values (from 36.36 to 45.44) represents a confidence interval for the \n",
    "# average break time with a 95% confidence."
   ]
  },
  {
   "cell_type": "code",
   "execution_count": 14,
   "metadata": {},
   "outputs": [],
   "source": [
    "# function that makes a single confidence interval from our breaks data\n",
    "\n",
    "def makeConfidenceInterval():\n",
    "    sample_size = 100\n",
    "    sample = np.random.choice(a= breaks, size = sample_size)\n",
    "\n",
    "    sample_mean = sample.mean()\n",
    "    # sample mean\n",
    "\n",
    "    sample_stdev = sample.std()    \n",
    "    # sample standard deviation\n",
    "\n",
    "    sigma = sample_stdev/math.sqrt(sample_size)  \n",
    "    # population Standard deviation estimate\n",
    "\n",
    "    return stats.t.interval(alpha = 0.95,              # Confidence level\n",
    "                     df= sample_size - 1,       # Degrees of freedom\n",
    "                     loc = sample_mean,         # Sample mean\n",
    "                     scale = sigma)             # Standard deviation estimate"
   ]
  },
  {
   "cell_type": "code",
   "execution_count": 15,
   "metadata": {},
   "outputs": [
    {
     "name": "stdout",
     "output_type": "stream",
     "text": [
      "0.9472\n"
     ]
    }
   ],
   "source": [
    "# To better understand the confidence level, let's take 10,000 confidence intervals and\n",
    "# see how often our population mean falls in the interval.\n",
    "\n",
    "times_in_interval = 0.\n",
    "for i in range(10000):\n",
    "    interval = makeConfidenceInterval()\n",
    "    if 39.99 >= interval[0] and 39.99 <= interval[1]:\n",
    "    # if 39.99 falls in the interval\n",
    "        times_in_interval += 1\n",
    "\n",
    "print (times_in_interval / 10000)\n",
    "    \n",
    "# We see that about 95% of our confidence intervals contained our actual\n",
    "# population mean. Estimating population parameters through point estimates and\n",
    "# confidence intervals is a relatively simple and powerful form of statistical inference."
   ]
  },
  {
   "cell_type": "markdown",
   "metadata": {},
   "source": [
    "### Conducting a hypothesis test"
   ]
  },
  {
   "cell_type": "code",
   "execution_count": 17,
   "metadata": {},
   "outputs": [
    {
     "name": "stdout",
     "output_type": "stream",
     "text": [
      "39.99944444444444\n",
      "35.37\n"
     ]
    }
   ],
   "source": [
    "# Suppose, in our previous employee break time example, we look,\n",
    "# specifically, at the engineering department's break times, as shown:\n",
    "\n",
    "long_breaks_in_engineering = stats.poisson.rvs(loc=10, mu=55, size=100)\n",
    "short_breaks_in_engineering = stats.poisson.rvs(loc=10, mu=15, size=300)\n",
    "engineering_breaks = np.concatenate((long_breaks_in_engineering, short_breaks_in_engineering))\n",
    "\n",
    "print (breaks.mean())\n",
    "print (engineering_breaks.mean())"
   ]
  },
  {
   "cell_type": "code",
   "execution_count": 18,
   "metadata": {},
   "outputs": [],
   "source": [
    "# Our objective here is to ascertain whether there is a difference between the overall\n",
    "# population's (company employees) break times and break times of employees in the engineering department.\n",
    "\n",
    "t_statistic, p_value = stats.ttest_1samp(a= engineering_breaks,               # Sample data\n",
    "                 popmean= breaks.mean())  # Population mean"
   ]
  },
  {
   "cell_type": "code",
   "execution_count": 19,
   "metadata": {},
   "outputs": [
    {
     "data": {
      "text/plain": [
       "(-5.10832315211699, 5.047379159741902e-07)"
      ]
     },
     "execution_count": 19,
     "metadata": {},
     "output_type": "execute_result"
    }
   ],
   "source": [
    "t_statistic, p_value"
   ]
  },
  {
   "cell_type": "markdown",
   "metadata": {},
   "source": [
    "### Example of a chi-square test for goodness of fit"
   ]
  },
  {
   "cell_type": "code",
   "execution_count": 20,
   "metadata": {},
   "outputs": [],
   "source": [
    "# The CDC categorizes adult BMIs into four classes: Under/Normal, Over weight,\n",
    "# Obesity, and Extreme Obesity. A 2009 survey showed the distribution for adults\n",
    "# in the U.S. to be 31.2%, 33.1%, 29.4%, and 6.3% respectively. A total of 500 adults\n",
    "# are randomly sampled and their BMI categories are recorded. Is there evidence to\n",
    "# suggest that BMI trends have changed since 2009? Test at the 0.05 significance level.\n",
    "\n",
    "observed = [102, 178, 186, 34]\n",
    "expected = [156, 165.5, 147, 31.5]"
   ]
  },
  {
   "cell_type": "code",
   "execution_count": 21,
   "metadata": {},
   "outputs": [
    {
     "data": {
      "text/plain": [
       "(30.1817679275599, 1.26374310311106e-06)"
      ]
     },
     "execution_count": 21,
     "metadata": {},
     "output_type": "execute_result"
    }
   ],
   "source": [
    "chi_squared, p_value = stats.chisquare(f_obs= observed,   # Array of observed counts\n",
    "                f_exp= expected)   # Array of expected counts\n",
    "chi_squared, p_value"
   ]
  },
  {
   "cell_type": "code",
   "execution_count": 22,
   "metadata": {},
   "outputs": [
    {
     "data": {
      "text/plain": [
       "(0.04762692369491045, 0.8272452870442226)"
      ]
     },
     "execution_count": 22,
     "metadata": {},
     "output_type": "execute_result"
    }
   ],
   "source": [
    "# Recall that we ran a test and exposed half of our users to a certain landing page\n",
    "# (Website A), exposed the other half to a different landing page (Website B), and then,\n",
    "# measured the sign up rates for both sites. We obtained the following results:\n",
    "    \n",
    "observed = np.array([[134, 54],[110, 48]])\n",
    "chi_squared, p_value, degrees_of_freedom, matrix = stats.chi2_contingency(observed= observed)\n",
    "chi_squared, p_value"
   ]
  },
  {
   "cell_type": "code",
   "execution_count": null,
   "metadata": {},
   "outputs": [],
   "source": []
  }
 ],
 "metadata": {
  "kernelspec": {
   "display_name": "Python 3 (ipykernel)",
   "language": "python",
   "name": "python3"
  },
  "language_info": {
   "codemirror_mode": {
    "name": "ipython",
    "version": 3
   },
   "file_extension": ".py",
   "mimetype": "text/x-python",
   "name": "python",
   "nbconvert_exporter": "python",
   "pygments_lexer": "ipython3",
   "version": "3.9.7"
  }
 },
 "nbformat": 4,
 "nbformat_minor": 1
}

{
 "cells": [
  {
   "cell_type": "code",
   "execution_count": 1,
   "id": "069a076f",
   "metadata": {},
   "outputs": [],
   "source": [
    "import numpy as np\n",
    "import pandas as pd\n",
    "import scipy.stats as stats\n",
    "import matplotlib.pyplot as plt\n",
    "import random\n",
    "import math\n",
    "%matplotlib inline"
   ]
  },
  {
   "cell_type": "code",
   "execution_count": 2,
   "id": "ef390f5c",
   "metadata": {},
   "outputs": [
    {
     "data": {
      "text/plain": [
       "(2.890472429979177, 0.08910479343414827)"
      ]
     },
     "execution_count": 2,
     "metadata": {},
     "output_type": "execute_result"
    }
   ],
   "source": [
    "#2\n",
    "observed = np.array([[283, 36],[117, 25]])\n",
    "chi_squared, p_value, degrees_of_freedom, matrix = stats.chi2_contingency(observed= observed)\n",
    "chi_squared, p_value"
   ]
  },
  {
   "cell_type": "code",
   "execution_count": 8,
   "id": "cc7e717d",
   "metadata": {},
   "outputs": [
    {
     "name": "stdout",
     "output_type": "stream",
     "text": [
      "91.25\n"
     ]
    },
    {
     "data": {
      "text/plain": [
       "(4.660096463449499, 0.00017062466822591793)"
      ]
     },
     "execution_count": 8,
     "metadata": {},
     "output_type": "execute_result"
    }
   ],
   "source": [
    "#5\n",
    "THU = np.array([97, 100,  94,  93, 100,  83,  91,\n",
    "       99,  96,  81,  95,  86,  85, 95, \n",
    "       98,  91,  80,  78,  88,  95])\n",
    "# THX = np.array([75, 88, 86, 80, 73, 80, 61,\n",
    "#        83, 86, 76, 86, 99, 65, 89,\n",
    "#        82, 64, 89, 91, 86, 73])\n",
    "CS_11_pop_mean_exam_scores = 84\n",
    "\n",
    "t_statistic, p_value = stats.ttest_1samp(a = THU,\n",
    "                                         popmean = CS_11_pop_mean_exam_scores)  # Population mean\n",
    "print(THU.mean())\n",
    "t_statistic, p_value"
   ]
  },
  {
   "cell_type": "code",
   "execution_count": 12,
   "id": "67b361cb",
   "metadata": {},
   "outputs": [
    {
     "name": "stdout",
     "output_type": "stream",
     "text": [
      "observed: [301 222  70  42  55  10]\n",
      "expected [371. 140.  56.  56.  42.  35.]\n"
     ]
    },
    {
     "data": {
      "text/plain": [
       "(90.11707097933513, 6.349388327275035e-18)"
      ]
     },
     "execution_count": 12,
     "metadata": {},
     "output_type": "execute_result"
    }
   ],
   "source": [
    "#6\n",
    "observed = np.array([301, 222, 70, 42, 55, 10])\n",
    "sample_size = observed.sum()  # 700\n",
    "expected = np.array([0.53, 0.2, 0.08, 0.08, 0.06, 0.05]) * sample_size\n",
    "\n",
    "print('observed:', observed)\n",
    "print('expected', expected)\n",
    "\n",
    "chi_squared, p_value = stats.chisquare(f_obs= observed,   # Array of observed counts\n",
    "                    f_exp= expected)   # Array of expected counts\n",
    "chi_squared, p_value"
   ]
  },
  {
   "cell_type": "code",
   "execution_count": 13,
   "id": "b1b2185f",
   "metadata": {},
   "outputs": [
    {
     "name": "stdout",
     "output_type": "stream",
     "text": [
      "THU mean: 91.25\n",
      "THX mean: 80.6\n"
     ]
    },
    {
     "data": {
      "text/plain": [
       "(3.9527648233815196, 0.000324790909593939)"
      ]
     },
     "execution_count": 13,
     "metadata": {},
     "output_type": "execute_result"
    }
   ],
   "source": [
    "#7\n",
    "THU = np.array([97, 100,  94,  93, 100,  83,  91, \n",
    "       99,  96,  81,  95,  86,  85, 95, \n",
    "       98,  91,  80,  78,  88,  95])\n",
    "THX = np.array([75, 88, 86, 80, 73, 80, 61, 83,\n",
    "       86, 76, 86, 99, 65, 89, 82, 64,\n",
    "       89, 91, 86, 73])\n",
    "\n",
    "print('THU mean:', THU.mean())\n",
    "print('THX mean:', THX.mean())\n",
    "\n",
    "t_statistic, p_value = stats.ttest_ind(THU, THX)\n",
    "t_statistic, p_value"
   ]
  },
  {
   "cell_type": "code",
   "execution_count": 15,
   "id": "22c6bf77",
   "metadata": {},
   "outputs": [
    {
     "name": "stdout",
     "output_type": "stream",
     "text": [
      "diagnostic mean: 74.7\n",
      "assessment mean: 90.6\n"
     ]
    },
    {
     "data": {
      "text/plain": [
       "(-4.589029000013183, 0.00020037872507297825)"
      ]
     },
     "execution_count": 15,
     "metadata": {},
     "output_type": "execute_result"
    }
   ],
   "source": [
    "#10\n",
    "diagnostic = np.array([65, 49, 73, 78, 79, 64, 91,\n",
    "              72, 59, 82, 90, 62, 75, 83,\n",
    "              72, 84, 71, 88, 83, 74])\n",
    "assessment = np.array([93, 107, 98, 93, 78, 95, \n",
    "              90, 88,  94, 83, 88, 86,\n",
    "              87, 95, 103, 85, 79, 90,\n",
    "              92, 88])\n",
    "\n",
    "print('diagnostic mean:', diagnostic.mean())\n",
    "print('assessment mean:', assessment.mean())\n",
    "\n",
    "t_statistic, p_value = stats.ttest_rel(diagnostic, assessment)\n",
    "t_statistic, p_value "
   ]
  },
  {
   "cell_type": "code",
   "execution_count": null,
   "id": "2657e740",
   "metadata": {},
   "outputs": [],
   "source": []
  }
 ],
 "metadata": {
  "kernelspec": {
   "display_name": "Python 3 (ipykernel)",
   "language": "python",
   "name": "python3"
  },
  "language_info": {
   "codemirror_mode": {
    "name": "ipython",
    "version": 3
   },
   "file_extension": ".py",
   "mimetype": "text/x-python",
   "name": "python",
   "nbconvert_exporter": "python",
   "pygments_lexer": "ipython3",
   "version": "3.9.7"
  }
 },
 "nbformat": 4,
 "nbformat_minor": 5
}

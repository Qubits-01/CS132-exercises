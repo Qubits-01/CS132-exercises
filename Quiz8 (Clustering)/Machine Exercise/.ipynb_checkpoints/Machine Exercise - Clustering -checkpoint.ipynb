{
 "cells": [
  {
   "cell_type": "markdown",
   "id": "c8d35fa0",
   "metadata": {},
   "source": [
    "CS 132 Machine Exercise: Unsupervised Learning\n",
    "\n",
    "Please put your details here.\n",
    "\n",
    "Last name: Viernes\n",
    "First name: Marc Peejay\n",
    "Student number: 2020-10139\n",
    "Section: WFX\n",
    "\n",
    "This is an individual activity. I confirm that I made this exercise by myself"
   ]
  },
  {
   "cell_type": "markdown",
   "id": "5c9c4841",
   "metadata": {},
   "source": [
    "The dataset you are going to use for this activity is the grades_km_input.csv The task is to cluster 620 high school seniors based on their grades in three subject areas: English, mathematics, and science. The grades are averaged over their high school. You can assume that grade values range from 0 to 100.\n",
    "\n",
    "1. Import necessary libraries and Load the data set into a pandas dataframe as df (1 point)."
   ]
  },
  {
   "cell_type": "code",
   "execution_count": 1,
   "id": "b01ca8af",
   "metadata": {},
   "outputs": [
    {
     "data": {
      "text/html": [
       "<div>\n",
       "<style scoped>\n",
       "    .dataframe tbody tr th:only-of-type {\n",
       "        vertical-align: middle;\n",
       "    }\n",
       "\n",
       "    .dataframe tbody tr th {\n",
       "        vertical-align: top;\n",
       "    }\n",
       "\n",
       "    .dataframe thead th {\n",
       "        text-align: right;\n",
       "    }\n",
       "</style>\n",
       "<table border=\"1\" class=\"dataframe\">\n",
       "  <thead>\n",
       "    <tr style=\"text-align: right;\">\n",
       "      <th></th>\n",
       "      <th>Student</th>\n",
       "      <th>English</th>\n",
       "      <th>Math</th>\n",
       "      <th>Science</th>\n",
       "    </tr>\n",
       "  </thead>\n",
       "  <tbody>\n",
       "    <tr>\n",
       "      <th>0</th>\n",
       "      <td>1</td>\n",
       "      <td>99</td>\n",
       "      <td>96</td>\n",
       "      <td>97</td>\n",
       "    </tr>\n",
       "    <tr>\n",
       "      <th>1</th>\n",
       "      <td>2</td>\n",
       "      <td>99</td>\n",
       "      <td>96</td>\n",
       "      <td>97</td>\n",
       "    </tr>\n",
       "    <tr>\n",
       "      <th>2</th>\n",
       "      <td>3</td>\n",
       "      <td>98</td>\n",
       "      <td>97</td>\n",
       "      <td>97</td>\n",
       "    </tr>\n",
       "    <tr>\n",
       "      <th>3</th>\n",
       "      <td>4</td>\n",
       "      <td>95</td>\n",
       "      <td>100</td>\n",
       "      <td>95</td>\n",
       "    </tr>\n",
       "    <tr>\n",
       "      <th>4</th>\n",
       "      <td>5</td>\n",
       "      <td>95</td>\n",
       "      <td>96</td>\n",
       "      <td>96</td>\n",
       "    </tr>\n",
       "  </tbody>\n",
       "</table>\n",
       "</div>"
      ],
      "text/plain": [
       "   Student  English  Math  Science\n",
       "0        1       99    96       97\n",
       "1        2       99    96       97\n",
       "2        3       98    97       97\n",
       "3        4       95   100       95\n",
       "4        5       95    96       96"
      ]
     },
     "execution_count": 1,
     "metadata": {},
     "output_type": "execute_result"
    }
   ],
   "source": [
    "#import the libraries\n",
    "# your code starts here\n",
    "import pandas as pd\n",
    "from sklearn.cluster import KMeans\n",
    "from sklearn import metrics\n",
    "from sklearn.preprocessing import StandardScaler\n",
    "import numpy as np\n",
    "import matplotlib.pyplot as plt\n",
    "%matplotlib inline\n",
    "# your code ends here\n",
    "\n",
    "#read the data into the dataframe \n",
    "# your code starts here\n",
    "df = pd.read_csv('grades_km_input.csv')\n",
    "# your code ends here\n",
    "\n",
    "df.head()"
   ]
  },
  {
   "cell_type": "markdown",
   "id": "55b630ae",
   "metadata": {},
   "source": [
    "The column Student identifies a particular student. The three columns English, Math and Science contains the grade of a student for each of the subjects."
   ]
  },
  {
   "cell_type": "markdown",
   "id": "b83612cb",
   "metadata": {},
   "source": [
    "2. Define your features X. Remove the column Student (1 point). "
   ]
  },
  {
   "cell_type": "code",
   "execution_count": 2,
   "id": "963ad01b",
   "metadata": {},
   "outputs": [
    {
     "data": {
      "text/html": [
       "<div>\n",
       "<style scoped>\n",
       "    .dataframe tbody tr th:only-of-type {\n",
       "        vertical-align: middle;\n",
       "    }\n",
       "\n",
       "    .dataframe tbody tr th {\n",
       "        vertical-align: top;\n",
       "    }\n",
       "\n",
       "    .dataframe thead th {\n",
       "        text-align: right;\n",
       "    }\n",
       "</style>\n",
       "<table border=\"1\" class=\"dataframe\">\n",
       "  <thead>\n",
       "    <tr style=\"text-align: right;\">\n",
       "      <th></th>\n",
       "      <th>English</th>\n",
       "      <th>Math</th>\n",
       "      <th>Science</th>\n",
       "    </tr>\n",
       "  </thead>\n",
       "  <tbody>\n",
       "    <tr>\n",
       "      <th>0</th>\n",
       "      <td>99</td>\n",
       "      <td>96</td>\n",
       "      <td>97</td>\n",
       "    </tr>\n",
       "    <tr>\n",
       "      <th>1</th>\n",
       "      <td>99</td>\n",
       "      <td>96</td>\n",
       "      <td>97</td>\n",
       "    </tr>\n",
       "    <tr>\n",
       "      <th>2</th>\n",
       "      <td>98</td>\n",
       "      <td>97</td>\n",
       "      <td>97</td>\n",
       "    </tr>\n",
       "    <tr>\n",
       "      <th>3</th>\n",
       "      <td>95</td>\n",
       "      <td>100</td>\n",
       "      <td>95</td>\n",
       "    </tr>\n",
       "    <tr>\n",
       "      <th>4</th>\n",
       "      <td>95</td>\n",
       "      <td>96</td>\n",
       "      <td>96</td>\n",
       "    </tr>\n",
       "  </tbody>\n",
       "</table>\n",
       "</div>"
      ],
      "text/plain": [
       "   English  Math  Science\n",
       "0       99    96       97\n",
       "1       99    96       97\n",
       "2       98    97       97\n",
       "3       95   100       95\n",
       "4       95    96       96"
      ]
     },
     "execution_count": 2,
     "metadata": {},
     "output_type": "execute_result"
    }
   ],
   "source": [
    "# your code starts here\n",
    "X = df.drop('Student', axis=1) \n",
    "# your code ends here\n",
    "\n",
    "X.head()"
   ]
  },
  {
   "cell_type": "markdown",
   "id": "0230b29b",
   "metadata": {},
   "source": [
    "3. Use K-Means clustering to do the given task. Determine the appropriate number of clusters from 2 to 15 clusters. Use silhouette score as metric (2 points)."
   ]
  },
  {
   "cell_type": "code",
   "execution_count": 3,
   "id": "266ed355",
   "metadata": {},
   "outputs": [],
   "source": [
    "# your code starts here\n",
    "scaler = StandardScaler()\n",
    "X_scaled = scaler.fit_transform(X)\n",
    "\n",
    "k_range = range(2, 15+1)\n",
    "scores = []\n",
    "\n",
    "for k in k_range:\n",
    "    km = KMeans(n_clusters=k, random_state=1)\n",
    "    km.fit(X_scaled)\n",
    "    scores.append(metrics.silhouette_score(X, km.labels_))\n",
    "# your code ends here"
   ]
  },
  {
   "cell_type": "markdown",
   "id": "1d09659e",
   "metadata": {},
   "source": [
    "4. Display the graph of number of clusters vs silhouette coefficient (1 point)."
   ]
  },
  {
   "cell_type": "code",
   "execution_count": 4,
   "id": "304a6bfc",
   "metadata": {},
   "outputs": [
    {
     "data": {
      "image/png": "[encoded data removed]",
      "text/plain": [
       "<Figure size 432x288 with 1 Axes>"
      ]
     },
     "metadata": {
      "needs_background": "light"
     },
     "output_type": "display_data"
    }
   ],
   "source": [
    "# plot the results \n",
    "# your code starts here\n",
    "plt.plot(k_range, scores)\n",
    "plt.xlabel('Number of clusters')\n",
    "plt.ylabel('Silhouette Coefficient')\n",
    "plt.grid(True)\n",
    "# your code ends here"
   ]
  },
  {
   "cell_type": "markdown",
   "id": "a7ad92c7",
   "metadata": {},
   "source": [
    "5. What would be your choice of the number of clusters and why (1 point)?"
   ]
  },
  {
   "cell_type": "markdown",
   "id": "6f28685a",
   "metadata": {},
   "source": [
    "Your answer: 2, because the Silhouette Coefficient is closer to 1 (the desired value)."
   ]
  },
  {
   "cell_type": "markdown",
   "id": "0438a34c",
   "metadata": {},
   "source": [
    "6. Use k-means using your chosen number of clusters on your features X (1 point). "
   ]
  },
  {
   "cell_type": "code",
   "execution_count": 5,
   "id": "752396af",
   "metadata": {},
   "outputs": [
    {
     "data": {
      "text/plain": [
       "KMeans(n_clusters=2, random_state=1)"
      ]
     },
     "execution_count": 5,
     "metadata": {},
     "output_type": "execute_result"
    }
   ],
   "source": [
    "# your code starts here\n",
    "km = KMeans(n_clusters=2, random_state=1)\n",
    "km.fit(X_scaled)\n",
    "# your code ends here"
   ]
  },
  {
   "cell_type": "markdown",
   "id": "e9d0ff5b",
   "metadata": {},
   "source": [
    "7. Save the cluster labels  and sort by cluster (1 point)."
   ]
  },
  {
   "cell_type": "code",
   "execution_count": 6,
   "id": "6c77d82e",
   "metadata": {},
   "outputs": [
    {
     "data": {
      "text/html": [
       "<div>\n",
       "<style scoped>\n",
       "    .dataframe tbody tr th:only-of-type {\n",
       "        vertical-align: middle;\n",
       "    }\n",
       "\n",
       "    .dataframe tbody tr th {\n",
       "        vertical-align: top;\n",
       "    }\n",
       "\n",
       "    .dataframe thead th {\n",
       "        text-align: right;\n",
       "    }\n",
       "</style>\n",
       "<table border=\"1\" class=\"dataframe\">\n",
       "  <thead>\n",
       "    <tr style=\"text-align: right;\">\n",
       "      <th></th>\n",
       "      <th>English</th>\n",
       "      <th>Math</th>\n",
       "      <th>Science</th>\n",
       "      <th>cluster</th>\n",
       "    </tr>\n",
       "  </thead>\n",
       "  <tbody>\n",
       "    <tr>\n",
       "      <th>0</th>\n",
       "      <td>99</td>\n",
       "      <td>96</td>\n",
       "      <td>97</td>\n",
       "      <td>0</td>\n",
       "    </tr>\n",
       "    <tr>\n",
       "      <th>1</th>\n",
       "      <td>99</td>\n",
       "      <td>96</td>\n",
       "      <td>97</td>\n",
       "      <td>0</td>\n",
       "    </tr>\n",
       "    <tr>\n",
       "      <th>2</th>\n",
       "      <td>98</td>\n",
       "      <td>97</td>\n",
       "      <td>97</td>\n",
       "      <td>0</td>\n",
       "    </tr>\n",
       "    <tr>\n",
       "      <th>3</th>\n",
       "      <td>95</td>\n",
       "      <td>100</td>\n",
       "      <td>95</td>\n",
       "      <td>0</td>\n",
       "    </tr>\n",
       "    <tr>\n",
       "      <th>4</th>\n",
       "      <td>95</td>\n",
       "      <td>96</td>\n",
       "      <td>96</td>\n",
       "      <td>0</td>\n",
       "    </tr>\n",
       "    <tr>\n",
       "      <th>...</th>\n",
       "      <td>...</td>\n",
       "      <td>...</td>\n",
       "      <td>...</td>\n",
       "      <td>...</td>\n",
       "    </tr>\n",
       "    <tr>\n",
       "      <th>615</th>\n",
       "      <td>91</td>\n",
       "      <td>72</td>\n",
       "      <td>74</td>\n",
       "      <td>0</td>\n",
       "    </tr>\n",
       "    <tr>\n",
       "      <th>616</th>\n",
       "      <td>89</td>\n",
       "      <td>61</td>\n",
       "      <td>62</td>\n",
       "      <td>1</td>\n",
       "    </tr>\n",
       "    <tr>\n",
       "      <th>617</th>\n",
       "      <td>58</td>\n",
       "      <td>98</td>\n",
       "      <td>70</td>\n",
       "      <td>1</td>\n",
       "    </tr>\n",
       "    <tr>\n",
       "      <th>618</th>\n",
       "      <td>63</td>\n",
       "      <td>99</td>\n",
       "      <td>74</td>\n",
       "      <td>1</td>\n",
       "    </tr>\n",
       "    <tr>\n",
       "      <th>619</th>\n",
       "      <td>66</td>\n",
       "      <td>93</td>\n",
       "      <td>72</td>\n",
       "      <td>1</td>\n",
       "    </tr>\n",
       "  </tbody>\n",
       "</table>\n",
       "<p>620 rows × 4 columns</p>\n",
       "</div>"
      ],
      "text/plain": [
       "     English  Math  Science  cluster\n",
       "0         99    96       97        0\n",
       "1         99    96       97        0\n",
       "2         98    97       97        0\n",
       "3         95   100       95        0\n",
       "4         95    96       96        0\n",
       "..       ...   ...      ...      ...\n",
       "615       91    72       74        0\n",
       "616       89    61       62        1\n",
       "617       58    98       70        1\n",
       "618       63    99       74        1\n",
       "619       66    93       72        1\n",
       "\n",
       "[620 rows x 4 columns]"
      ]
     },
     "execution_count": 6,
     "metadata": {},
     "output_type": "execute_result"
    }
   ],
   "source": [
    "# save the cluster labels and sort by cluster \n",
    "# your code starts here\n",
    "X['cluster'] = km.labels_\n",
    "# X.sort_values(by=['cluster'], inplace=True)\n",
    "X\n",
    "# your code ends here"
   ]
  },
  {
   "cell_type": "markdown",
   "id": "53465dfb",
   "metadata": {},
   "source": [
    "8. Calculate the mean of each feature for each cluster (1 point)."
   ]
  },
  {
   "cell_type": "code",
   "execution_count": 7,
   "id": "b7a657f4",
   "metadata": {},
   "outputs": [
    {
     "data": {
      "text/html": [
       "<div>\n",
       "<style scoped>\n",
       "    .dataframe tbody tr th:only-of-type {\n",
       "        vertical-align: middle;\n",
       "    }\n",
       "\n",
       "    .dataframe tbody tr th {\n",
       "        vertical-align: top;\n",
       "    }\n",
       "\n",
       "    .dataframe thead th {\n",
       "        text-align: right;\n",
       "    }\n",
       "</style>\n",
       "<table border=\"1\" class=\"dataframe\">\n",
       "  <thead>\n",
       "    <tr style=\"text-align: right;\">\n",
       "      <th></th>\n",
       "      <th>English</th>\n",
       "      <th>Math</th>\n",
       "      <th>Science</th>\n",
       "    </tr>\n",
       "    <tr>\n",
       "      <th>cluster</th>\n",
       "      <th></th>\n",
       "      <th></th>\n",
       "      <th></th>\n",
       "    </tr>\n",
       "  </thead>\n",
       "  <tbody>\n",
       "    <tr>\n",
       "      <th>0</th>\n",
       "      <td>91.649315</td>\n",
       "      <td>85.994521</td>\n",
       "      <td>87.572603</td>\n",
       "    </tr>\n",
       "    <tr>\n",
       "      <th>1</th>\n",
       "      <td>73.788235</td>\n",
       "      <td>66.258824</td>\n",
       "      <td>67.713725</td>\n",
       "    </tr>\n",
       "  </tbody>\n",
       "</table>\n",
       "</div>"
      ],
      "text/plain": [
       "           English       Math    Science\n",
       "cluster                                 \n",
       "0        91.649315  85.994521  87.572603\n",
       "1        73.788235  66.258824  67.713725"
      ]
     },
     "execution_count": 7,
     "metadata": {},
     "output_type": "execute_result"
    }
   ],
   "source": [
    "# calculate the mean of each feature for each cluster \n",
    "# your code starts here\n",
    "X.groupby('cluster').mean()\n",
    "# your code ends here"
   ]
  },
  {
   "cell_type": "markdown",
   "id": "c6f8b491",
   "metadata": {},
   "source": [
    "9. How would you interpret the resulting clusters (1 point)?"
   ]
  },
  {
   "cell_type": "markdown",
   "id": "fe69414a",
   "metadata": {},
   "source": [
    "Your answer here:\n",
    "(1) Cluster 0 generally contains the high performing students (in English, Math, and Science) while Cluster 1 contains the relatively low performing students in the said subjects. (2) The clusters also show that students that have a relatively higher score on the three subjects tend to flock together (as can be seen in cluster 0 where all of the mean scores are higher than in cluster 1). (3) There is a significant difference in grades between the two clusters (around 20 units)."
   ]
  },
  {
   "cell_type": "code",
   "execution_count": null,
   "id": "157d701c",
   "metadata": {},
   "outputs": [],
   "source": []
  }
 ],
 "metadata": {
  "kernelspec": {
   "display_name": "Python 3 (ipykernel)",
   "language": "python",
   "name": "python3"
  },
  "language_info": {
   "codemirror_mode": {
    "name": "ipython",
    "version": 3
   },
   "file_extension": ".py",
   "mimetype": "text/x-python",
   "name": "python",
   "nbconvert_exporter": "python",
   "pygments_lexer": "ipython3",
   "version": "3.9.7"
  }
 },
 "nbformat": 4,
 "nbformat_minor": 5
}
